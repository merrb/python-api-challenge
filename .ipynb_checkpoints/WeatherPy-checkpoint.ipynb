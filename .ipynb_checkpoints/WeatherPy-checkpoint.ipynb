{
 "cells": [
  {
   "cell_type": "markdown",
   "metadata": {},
   "source": [
    "# WeatherPy\n",
    "----\n",
    "\n",
    "#### Note\n",
    "* Instructions have been included for each segment. You do not have to follow them exactly, but they are included to help you think through the steps."
   ]
  },
  {
   "cell_type": "code",
   "execution_count": 1,
   "metadata": {
    "scrolled": true
   },
   "outputs": [],
   "source": [
    "# Dependencies and Setup\n",
    "import matplotlib.pyplot as plt\n",
    "import pandas as pd\n",
    "import numpy as np\n",
    "import requests\n",
    "import time\n",
    "from scipy.stats import linregress\n",
    "\n",
    "# Import API key\n",
    "from api_keys import weather_api_key\n",
    "\n",
    "# Incorporated citipy to determine city based on latitude and longitude\n",
    "from citipy import citipy\n",
    "\n",
    "# Output File (CSV)\n",
    "output_data_file = \"output_data/cities.csv\"\n",
    "\n",
    "# Range of latitudes and longitudes\n",
    "lat_range = (-90, 90)\n",
    "lng_range = (-180, 180)"
   ]
  },
  {
   "cell_type": "markdown",
   "metadata": {},
   "source": [
    "## Generate Cities List"
   ]
  },
  {
   "cell_type": "code",
   "execution_count": 2,
   "metadata": {},
   "outputs": [
    {
     "data": {
      "text/plain": [
       "593"
      ]
     },
     "execution_count": 2,
     "metadata": {},
     "output_type": "execute_result"
    }
   ],
   "source": [
    "# List for holding lat_lngs and cities\n",
    "lat_lngs = []\n",
    "cities = []\n",
    "countries = []\n",
    "\n",
    "# Create a set of random lat and lng combinations\n",
    "lats = np.random.uniform(lat_range[0], lat_range[1], size=1500)\n",
    "lngs = np.random.uniform(lng_range[0], lng_range[1], size=1500)\n",
    "lat_lngs = zip(lats, lngs)\n",
    "\n",
    "# Identify nearest city for each lat, lng combination\n",
    "for lat_lng in lat_lngs:\n",
    "    city = citipy.nearest_city(lat_lng[0], lat_lng[1]).city_name\n",
    "    \n",
    "    # If the city is unique, then add it to a our cities list\n",
    "    if city not in cities:\n",
    "        cities.append(city)\n",
    "       \n",
    "        \n",
    "    \n",
    "\n",
    "# Print the city count to confirm sufficient count\n",
    "len(cities)"
   ]
  },
  {
   "cell_type": "markdown",
   "metadata": {},
   "source": [
    "### Perform API Calls\n",
    "* Perform a weather check on each city using a series of successive API calls.\n",
    "* Include a print log of each city as it'sbeing processed (with the city number and city name).\n"
   ]
  },
  {
   "cell_type": "code",
   "execution_count": 3,
   "metadata": {
    "scrolled": true
   },
   "outputs": [
    {
     "name": "stdout",
     "output_type": "stream",
     "text": [
      "City Number1 of 593 complete | pandan\n",
      "City Number2 of 593 complete | nokha\n",
      "City Number3 of 593 complete | pingyin\n",
      "City Number4 of 593 complete | alexandria\n",
      "City Number5 of 593 complete | saskylakh\n"
     ]
    }
   ],
   "source": [
    "#City Number and City Name\n",
    "city_number = 1\n",
    "city_name = []\n",
    "lat = []\n",
    "lng = []\n",
    "Max_Temp = []\n",
    "Humidity = []\n",
    "Cloudiness = []\n",
    "Date = []\n",
    "Country = []\n",
    "Wind_speed = []\n",
    "\n",
    "\n",
    "#original URL to create API call\n",
    "#original_url = 'api.openweathermap.org/data/2.5/weather?q={city name}&appid={API key}'\n",
    "                    \n",
    "#print('''') \n",
    "\n",
    "\n",
    "#dataframe results\n",
    "#weather.()  \n",
    "\n",
    "for city in cities[:5]:\n",
    "    first_url = f'https://api.openweathermap.org/data/2.5/weather?q={city}&appid={weather_api_key}'\n",
    "                         \n",
    "    #preform weather check for each city using API\n",
    "    city_data = requests.get(first_url).json()\n",
    "    \n",
    "    #print(f'Processing Weather Data for Record{city_number} of Set {city_name} | {response[\"name\"]}')\n",
    "    \n",
    "#     #Data in the Dataframe\n",
    "#     weather.head[index, 'Cloudiness'] = reponse['clouds']['all']\n",
    "#     weather.head[index, 'Date'] = reponse['dt']\n",
    "#     weather.head[index, 'Humidity'] = reponse['main']['humidity']\n",
    "#     weather.head[index, 'Lat'] = reponse['coord']['lat']\n",
    "#     weather.head[index, 'Lng'] = reponse['cood']['lon']\n",
    "#     weather.head[index, 'Max Temp'] = reponse['main']['temp_max']\n",
    "#     weather.head[index, 'Windspeed'] = reponse['wind']['speed'] \n",
    "    \n",
    "    \n",
    "    #just in case city is not found in the API \n",
    "    try:\n",
    "        \n",
    "        lat.append(city_data['coord']['lat'])\n",
    "        lng.append(city_data['coord']['lon'])\n",
    "        Max_Temp.append(city_data['main']['temp_max'])\n",
    "        Humidity.append(city_data['main']['humidity'])\n",
    "        Cloudiness.append(city_data['clouds']['all'])\n",
    "        Wind_speed.append(city_data['wind']['speed'])\n",
    "        Country.append(city_data['sys']['country'])\n",
    "        Date.append(city_data['dt'])\n",
    "        city_name.append(city)\n",
    "        \n",
    "        print(f'City Number{city_number} of {len(cities)} complete | {city}')\n",
    "        city_number += 1\n",
    "        \n",
    "    except:\n",
    "        print('city not found')\n",
    "        pass\n",
    "    \n",
    "    time.sleep(1)\n",
    "\n",
    "      \n",
    "\n",
    "                "
   ]
  },
  {
   "cell_type": "markdown",
   "metadata": {},
   "source": [
    "### Convert Raw Data to DataFrame\n",
    "* Export the city data into a .csv.\n",
    "* Display the DataFrame"
   ]
  },
  {
   "cell_type": "code",
   "execution_count": 4,
   "metadata": {},
   "outputs": [
    {
     "data": {
      "text/html": [
       "<div>\n",
       "<style scoped>\n",
       "    .dataframe tbody tr th:only-of-type {\n",
       "        vertical-align: middle;\n",
       "    }\n",
       "\n",
       "    .dataframe tbody tr th {\n",
       "        vertical-align: top;\n",
       "    }\n",
       "\n",
       "    .dataframe thead th {\n",
       "        text-align: right;\n",
       "    }\n",
       "</style>\n",
       "<table border=\"1\" class=\"dataframe\">\n",
       "  <thead>\n",
       "    <tr style=\"text-align: right;\">\n",
       "      <th></th>\n",
       "      <th>City</th>\n",
       "      <th>Cloudiness</th>\n",
       "      <th>Country</th>\n",
       "      <th>Date</th>\n",
       "      <th>Humidity</th>\n",
       "      <th>Lat</th>\n",
       "      <th>Lng</th>\n",
       "      <th>Max Temp</th>\n",
       "      <th>Windspeed</th>\n",
       "    </tr>\n",
       "  </thead>\n",
       "  <tbody>\n",
       "    <tr>\n",
       "      <th>0</th>\n",
       "      <td>pandan</td>\n",
       "      <td>20</td>\n",
       "      <td>PH</td>\n",
       "      <td>1620179267</td>\n",
       "      <td>81</td>\n",
       "      <td>14.0453</td>\n",
       "      <td>124.1694</td>\n",
       "      <td>301.78</td>\n",
       "      <td>5.09</td>\n",
       "    </tr>\n",
       "    <tr>\n",
       "      <th>1</th>\n",
       "      <td>nokha</td>\n",
       "      <td>30</td>\n",
       "      <td>IN</td>\n",
       "      <td>1620179270</td>\n",
       "      <td>26</td>\n",
       "      <td>27.6000</td>\n",
       "      <td>73.4167</td>\n",
       "      <td>302.89</td>\n",
       "      <td>5.61</td>\n",
       "    </tr>\n",
       "    <tr>\n",
       "      <th>2</th>\n",
       "      <td>pingyin</td>\n",
       "      <td>1</td>\n",
       "      <td>CN</td>\n",
       "      <td>1620179273</td>\n",
       "      <td>16</td>\n",
       "      <td>36.2831</td>\n",
       "      <td>116.4453</td>\n",
       "      <td>295.77</td>\n",
       "      <td>4.80</td>\n",
       "    </tr>\n",
       "    <tr>\n",
       "      <th>3</th>\n",
       "      <td>alexandria</td>\n",
       "      <td>0</td>\n",
       "      <td>EG</td>\n",
       "      <td>1620178622</td>\n",
       "      <td>64</td>\n",
       "      <td>31.2156</td>\n",
       "      <td>29.9553</td>\n",
       "      <td>296.15</td>\n",
       "      <td>2.06</td>\n",
       "    </tr>\n",
       "    <tr>\n",
       "      <th>4</th>\n",
       "      <td>saskylakh</td>\n",
       "      <td>99</td>\n",
       "      <td>RU</td>\n",
       "      <td>1620179278</td>\n",
       "      <td>93</td>\n",
       "      <td>71.9167</td>\n",
       "      <td>114.0833</td>\n",
       "      <td>272.17</td>\n",
       "      <td>3.93</td>\n",
       "    </tr>\n",
       "  </tbody>\n",
       "</table>\n",
       "</div>"
      ],
      "text/plain": [
       "         City  Cloudiness Country        Date  Humidity      Lat       Lng  \\\n",
       "0      pandan          20      PH  1620179267        81  14.0453  124.1694   \n",
       "1       nokha          30      IN  1620179270        26  27.6000   73.4167   \n",
       "2     pingyin           1      CN  1620179273        16  36.2831  116.4453   \n",
       "3  alexandria           0      EG  1620178622        64  31.2156   29.9553   \n",
       "4   saskylakh          99      RU  1620179278        93  71.9167  114.0833   \n",
       "\n",
       "   Max Temp  Windspeed  \n",
       "0    301.78       5.09  \n",
       "1    302.89       5.61  \n",
       "2    295.77       4.80  \n",
       "3    296.15       2.06  \n",
       "4    272.17       3.93  "
      ]
     },
     "execution_count": 4,
     "metadata": {},
     "output_type": "execute_result"
    }
   ],
   "source": [
    "#Creating a dataframe\n",
    "#weather = {}\n",
    "#weather = ()\n",
    "\n",
    "\n",
    "#Create a weather for each city from the stored data\n",
    "weather = pd.DataFrame({'City': city_name, 'Cloudiness': Cloudiness, 'Country': Country, 'Date': Date, 'Humidity': Humidity, \n",
    "                        'Lat': lat, 'Lng': lng, 'Max Temp': Max_Temp, 'Windspeed': Wind_speed})\n",
    "\n",
    "#weather.to_csv(\"output_data/cities.csv\")\n",
    "\n",
    "#print dataframe\n",
    "weather.head()\n",
    "\n",
    "#weather['Max Temp'] = weather['Max Temp'].replace\n"
   ]
  },
  {
   "cell_type": "code",
   "execution_count": null,
   "metadata": {},
   "outputs": [],
   "source": []
  },
  {
   "cell_type": "markdown",
   "metadata": {},
   "source": [
    "## Inspect the data and remove the cities where the humidity > 100%.\n",
    "----\n",
    "Skip this step if there are no cities that have humidity > 100%. "
   ]
  },
  {
   "cell_type": "code",
   "execution_count": null,
   "metadata": {},
   "outputs": [],
   "source": [
    "alkjsdlfkajsdlfkjalskdjf"
   ]
  },
  {
   "cell_type": "code",
   "execution_count": 5,
   "metadata": {},
   "outputs": [],
   "source": [
    "#  Get the indices of cities that have humidity over 100%.\n"
   ]
  },
  {
   "cell_type": "code",
   "execution_count": 26,
   "metadata": {},
   "outputs": [],
   "source": [
    "# Make a new DataFrame equal to the city data to drop all humidity outliers by index.\n",
    "# Passing \"inplace=False\" will make a copy of the city_data DataFrame, which we call \"clean_city_data\".\n"
   ]
  },
  {
   "cell_type": "code",
   "execution_count": null,
   "metadata": {},
   "outputs": [],
   "source": [
    "\n"
   ]
  },
  {
   "cell_type": "markdown",
   "metadata": {},
   "source": [
    "## Plotting the Data\n",
    "* Use proper labeling of the plots using plot titles (including date of analysis) and axes labels.\n",
    "* Save the plotted figures as .pngs."
   ]
  },
  {
   "cell_type": "markdown",
   "metadata": {},
   "source": [
    "## Latitude vs. Temperature Plot"
   ]
  },
  {
   "cell_type": "code",
   "execution_count": 27,
   "metadata": {
    "scrolled": true
   },
   "outputs": [
    {
     "data": {
      "image/png": "[encoded data removed]",
      "text/plain": [
       "<Figure size 432x288 with 1 Axes>"
      ]
     },
     "metadata": {
      "needs_background": "light"
     },
     "output_type": "display_data"
    }
   ],
   "source": [
    "#Scatter Plot for Data Type\n",
    "plt.scatter(weather['Lat'], weather['Max Temp'], marker='o')\n",
    "\n",
    "#Graph plots\n",
    "plt.ylabel('Temperature (F)')\n",
    "plt.xlabel('Latitude')\n",
    "plt.grid(True)\n",
    "plt.grid('Latitude vs. Temperture')\n",
    "#plt.savefig(weather)\n",
    "\n",
    "#Show plot\n",
    "plt.show()"
   ]
  },
  {
   "cell_type": "markdown",
   "metadata": {},
   "source": [
    "## Latitude vs. Humidity Plot"
   ]
  },
  {
   "cell_type": "code",
   "execution_count": 28,
   "metadata": {},
   "outputs": [
    {
     "data": {
      "image/png": "[encoded data removed]",
      "text/plain": [
       "<Figure size 432x288 with 1 Axes>"
      ]
     },
     "metadata": {
      "needs_background": "light"
     },
     "output_type": "display_data"
    }
   ],
   "source": [
    "#Scatter Plot for Data Type\n",
    "plt.scatter(weather['Lat'], weather['Humidity'], marker='o')\n",
    "\n",
    "#Graph plots\n",
    "plt.ylabel('Humidity')\n",
    "plt.xlabel('Latitude')\n",
    "plt.grid(True)\n",
    "\n",
    "\n",
    "#plt.savefig(weather)\n",
    "\n",
    "#Show plot\n",
    "plt.show()"
   ]
  },
  {
   "cell_type": "markdown",
   "metadata": {},
   "source": [
    "## Latitude vs. Cloudiness Plot"
   ]
  },
  {
   "cell_type": "code",
   "execution_count": 29,
   "metadata": {},
   "outputs": [
    {
     "data": {
      "image/png": "[encoded data removed]",
      "text/plain": [
       "<Figure size 432x288 with 1 Axes>"
      ]
     },
     "metadata": {
      "needs_background": "light"
     },
     "output_type": "display_data"
    }
   ],
   "source": [
    "#Scatter Plot for Data Type\n",
    "plt.scatter(weather['Lat'], weather['Cloudiness'], marker='o')\n",
    "\n",
    "#Graph plots\n",
    "plt.ylabel('Cloudiness')\n",
    "plt.xlabel('Latitude')\n",
    "plt.grid(True)\n",
    "plt.grid('Latitude vs. Cloudiness')\n",
    "#plt.savefig(weather)\n",
    "\n",
    "#Show plot\n",
    "plt.show()"
   ]
  },
  {
   "cell_type": "markdown",
   "metadata": {},
   "source": [
    "## Latitude vs. Wind Speed Plot"
   ]
  },
  {
   "cell_type": "code",
   "execution_count": 30,
   "metadata": {},
   "outputs": [
    {
     "data": {
      "image/png": "[encoded data removed]",
      "text/plain": [
       "<Figure size 432x288 with 1 Axes>"
      ]
     },
     "metadata": {
      "needs_background": "light"
     },
     "output_type": "display_data"
    }
   ],
   "source": [
    "#Scatter Plot for Data Type\n",
    "plt.scatter(weather['Lat'], weather['Windspeed'], marker='o')\n",
    "\n",
    "#Graph plots\n",
    "plt.ylabel('Windspeed')\n",
    "plt.xlabel('Latitude')\n",
    "plt.grid(True)\n",
    "plt.grid('Latitude vs. Windspeed')\n",
    "#plt.savefig(weather)\n",
    "\n",
    "#Show plot\n",
    "plt.show()"
   ]
  },
  {
   "cell_type": "markdown",
   "metadata": {},
   "source": [
    "## Linear Regression"
   ]
  },
  {
   "cell_type": "code",
   "execution_count": 34,
   "metadata": {},
   "outputs": [
    {
     "ename": "AttributeError",
     "evalue": "'function' object has no attribute 'xlabel'",
     "output_type": "error",
     "traceback": [
      "\u001b[1;31m---------------------------------------------------------------------------\u001b[0m",
      "\u001b[1;31mAttributeError\u001b[0m                            Traceback (most recent call last)",
      "\u001b[1;32m<ipython-input-34-b0c4e137d480>\u001b[0m in \u001b[0;36m<module>\u001b[1;34m\u001b[0m\n\u001b[0;32m     10\u001b[0m \u001b[1;31m#plt.plot(xdat,regress_values,\"r-\")\u001b[0m\u001b[1;33m\u001b[0m\u001b[1;33m\u001b[0m\u001b[1;33m\u001b[0m\u001b[0m\n\u001b[0;32m     11\u001b[0m \u001b[1;31m#plt.annotate(line_eq,xycord,fontsize=11,color='red')\u001b[0m\u001b[1;33m\u001b[0m\u001b[1;33m\u001b[0m\u001b[1;33m\u001b[0m\u001b[0m\n\u001b[1;32m---> 12\u001b[1;33m \u001b[0mplt\u001b[0m\u001b[1;33m.\u001b[0m\u001b[0mxlabel\u001b[0m\u001b[1;33m(\u001b[0m\u001b[0mxline\u001b[0m\u001b[1;33m)\u001b[0m\u001b[1;33m\u001b[0m\u001b[1;33m\u001b[0m\u001b[0m\n\u001b[0m\u001b[0;32m     13\u001b[0m \u001b[0mplt\u001b[0m\u001b[1;33m.\u001b[0m\u001b[0mylabel\u001b[0m\u001b[1;33m(\u001b[0m\u001b[0myline\u001b[0m\u001b[1;33m)\u001b[0m\u001b[1;33m\u001b[0m\u001b[1;33m\u001b[0m\u001b[0m\n\u001b[0;32m     14\u001b[0m \u001b[0mplt\u001b[0m\u001b[1;33m.\u001b[0m\u001b[0msavefig\u001b[0m\u001b[1;33m(\u001b[0m\u001b[1;34mf'output_data/fig{ifig}.png'\u001b[0m\u001b[1;33m)\u001b[0m\u001b[1;33m\u001b[0m\u001b[1;33m\u001b[0m\u001b[0m\n",
      "\u001b[1;31mAttributeError\u001b[0m: 'function' object has no attribute 'xlabel'"
     ]
    }
   ],
   "source": [
    "#Defining Linear Regression\n",
    "\n",
    "def plt(xdat,ydat,xline,yline,xycord,jfig):\n",
    "    slope, intercept, r_value, p_value, std_err = linregress(xdat,ydat)\n",
    "    print(f'the r-squared is: {r_value}')\n",
    "    regress_values = x * slope + intercept\n",
    "    line_eq = 'y =' + str(round(slope,2)) + 'x + ' +str(round(intercept,2))\n",
    "\n",
    "#plt.scatter(xdat,ydat)\n",
    "#plt.plot(xdat,regress_values,\"r-\")\n",
    "#plt.annotate(line_eq,xycord,fontsize=11,color='red')\n",
    "plt.xlabel(xline)\n",
    "plt.ylabel(yline)\n",
    "plt.savefig(f'output_data/fig{ifig}.png')\n",
    "plt.show()\n",
    "\n",
    "#volume_avg_df\n",
    "#plt.show()"
   ]
  },
  {
   "cell_type": "markdown",
   "metadata": {},
   "source": [
    "####  Northern Hemisphere - Max Temp vs. Latitude Linear Regression"
   ]
  },
  {
   "cell_type": "code",
   "execution_count": 16,
   "metadata": {
    "scrolled": true
   },
   "outputs": [
    {
     "ename": "NameError",
     "evalue": "name 'plt' is not defined",
     "output_type": "error",
     "traceback": [
      "\u001b[1;31m---------------------------------------------------------------------------\u001b[0m",
      "\u001b[1;31mNameError\u001b[0m                                 Traceback (most recent call last)",
      "\u001b[1;32m<ipython-input-16-a2af7781f1b2>\u001b[0m in \u001b[0;36m<module>\u001b[1;34m\u001b[0m\n\u001b[0;32m      4\u001b[0m \u001b[1;31m#plotlinearregession(northern[xlbl],nothern[ylbl],xlbl,ylbl,lblpos,5)\u001b[0m\u001b[1;33m\u001b[0m\u001b[1;33m\u001b[0m\u001b[1;33m\u001b[0m\u001b[0m\n\u001b[0;32m      5\u001b[0m \u001b[1;33m\u001b[0m\u001b[0m\n\u001b[1;32m----> 6\u001b[1;33m \u001b[0mplt\u001b[0m\u001b[1;33m.\u001b[0m\u001b[0mshow\u001b[0m\u001b[1;33m(\u001b[0m\u001b[1;33m)\u001b[0m\u001b[1;33m\u001b[0m\u001b[1;33m\u001b[0m\u001b[0m\n\u001b[0m",
      "\u001b[1;31mNameError\u001b[0m: name 'plt' is not defined"
     ]
    }
   ],
   "source": [
    "x = 'lat'\n",
    "y = 'Max Temp'\n",
    "lblpos = (0,25)\n",
    "#plotlinearregession(northern[xlbl],nothern[ylbl],xlbl,ylbl,lblpos,5)\n",
    "\n",
    "plt.show()"
   ]
  },
  {
   "cell_type": "markdown",
   "metadata": {},
   "source": [
    "####  Southern Hemisphere - Max Temp vs. Latitude Linear Regression"
   ]
  },
  {
   "cell_type": "code",
   "execution_count": null,
   "metadata": {},
   "outputs": [],
   "source": []
  },
  {
   "cell_type": "markdown",
   "metadata": {},
   "source": [
    "####  Northern Hemisphere - Humidity (%) vs. Latitude Linear Regression"
   ]
  },
  {
   "cell_type": "code",
   "execution_count": null,
   "metadata": {},
   "outputs": [],
   "source": []
  },
  {
   "cell_type": "markdown",
   "metadata": {},
   "source": [
    "####  Southern Hemisphere - Humidity (%) vs. Latitude Linear Regression"
   ]
  },
  {
   "cell_type": "code",
   "execution_count": null,
   "metadata": {},
   "outputs": [],
   "source": []
  },
  {
   "cell_type": "markdown",
   "metadata": {},
   "source": [
    "####  Northern Hemisphere - Cloudiness (%) vs. Latitude Linear Regression"
   ]
  },
  {
   "cell_type": "code",
   "execution_count": null,
   "metadata": {},
   "outputs": [],
   "source": []
  },
  {
   "cell_type": "markdown",
   "metadata": {},
   "source": [
    "####  Southern Hemisphere - Cloudiness (%) vs. Latitude Linear Regression"
   ]
  },
  {
   "cell_type": "code",
   "execution_count": null,
   "metadata": {},
   "outputs": [],
   "source": []
  },
  {
   "cell_type": "markdown",
   "metadata": {},
   "source": [
    "####  Northern Hemisphere - Wind Speed (mph) vs. Latitude Linear Regression"
   ]
  },
  {
   "cell_type": "code",
   "execution_count": null,
   "metadata": {},
   "outputs": [],
   "source": []
  },
  {
   "cell_type": "markdown",
   "metadata": {},
   "source": [
    "####  Southern Hemisphere - Wind Speed (mph) vs. Latitude Linear Regression"
   ]
  },
  {
   "cell_type": "code",
   "execution_count": null,
   "metadata": {},
   "outputs": [],
   "source": []
  },
  {
   "cell_type": "code",
   "execution_count": null,
   "metadata": {},
   "outputs": [],
   "source": []
  }
 ],
 "metadata": {
  "anaconda-cloud": {},
  "kernel_info": {
   "name": "python3"
  },
  "kernelspec": {
   "display_name": "Python (PythonData)",
   "language": "python",
   "name": "pythondata"
  },
  "language_info": {
   "codemirror_mode": {
    "name": "ipython",
    "version": 3
   },
   "file_extension": ".py",
   "mimetype": "text/x-python",
   "name": "python",
   "nbconvert_exporter": "python",
   "pygments_lexer": "ipython3",
   "version": "3.6.12"
  },
  "latex_envs": {
   "LaTeX_envs_menu_present": true,
   "autoclose": false,
   "autocomplete": true,
   "bibliofile": "biblio.bib",
   "cite_by": "apalike",
   "current_citInitial": 1,
   "eqLabelWithNumbers": true,
   "eqNumInitial": 1,
   "hotkeys": {
    "equation": "Ctrl-E",
    "itemize": "Ctrl-I"
   },
   "labels_anchors": false,
   "latex_user_defs": false,
   "report_style_numbering": false,
   "user_envs_cfg": false
  },
  "nteract": {
   "version": "0.12.3"
  }
 },
 "nbformat": 4,
 "nbformat_minor": 2
}
